{
 "cells": [
  {
   "cell_type": "markdown",
   "metadata": {},
   "source": [
    "# Решающее дерево"
   ]
  },
  {
   "cell_type": "markdown",
   "metadata": {},
   "source": [
    "### Примечание\n",
    "### #\n",
    "Данная лабораторная работа не относится напрямую к изучению питона в целом или какого то конкретного модуля. Задача взята из курса по машинному обучению.\n",
    "Здесь я хочу проверить ваши умения разбираться в предлагаемом алгоритме и навыки в реализации этих алгоритмов.\n",
    "Проведем эксперимент и посмотрим на результат. Если будут возникать непреодолимые трудности, то просьба не прибегать к копированию решений из интернета, а обртиться за помощью к коллегам либо преподавателю.\n",
    "### #"
   ]
  },
  {
   "cell_type": "markdown",
   "metadata": {},
   "source": [
    "Отметим, что решающее дерево состоит из вершин, в которых записывает некоторое условие, а в листах дерева - прогноз. Условия во внутренних вершинах выбираются простыми. Наиболее частый вариант - проверка лежит ли значение некоторого признака $x^j$ левее порога $t$:\n",
    "\n",
    "$[x^j \\leq t]$\n",
    "\n",
    "Легко заметить, что такое условие зависит только от одного признака. Прогноз в листе является вещественным числом, если решается задача регрессии. Если же решается задача классификации, то в качестве прогноза выступает или класс или распределение вероятностей классов.\n",
    "\n",
    "Запишем некоторую функцию ошибки следующим образом: есть набор данных $X_m$, есть номер рассматриваемого признака $j$ и есть порог $t$.\n",
    "\n",
    "$L(X_m, j, t) \\rightarrow \\underset{j,t}{min}$\n",
    "\n",
    "Осуществим перебор всех возможных признаков $j$ и порогов $t$ для этих признаков. Каждый раз исходное множество будет разбиваться на два подмножества:\n",
    "\n",
    "$X_l = \\{x \\in X_m | [ x^j \\leq t ] \\}$ и $X_к = \\{x \\in X_m | [ x^j > t ] \\}$\n",
    "\n",
    "Такую процедуру можно продолжить для каждого получившегося множества (рекурсивно вызывать функцию деления для получающихся подмножеств).\n",
    "\n",
    "Необходимо отметить, что если вершина была объявлена листом, необходимо сделать прогноз для этого листа. Для задачи регрессии берется среднее значение по этой выборке,\n",
    "для задачи классификации возвращается тот класс, которые наиболее популярен в выборке. Можно указывать вероятность классов в листе.\n",
    "\n",
    "Для каждого разбиения необходимо расчитывать функцию потерь:\n",
    "\n",
    "$L(X_m, j, t) = \\frac{|X_l|}{|X_m|}H(X_l) + \\frac{|X_r|}{|X_m|}H(X_r)$,\n",
    "\n",
    "где $H(X)=\\sum\\limits_{k=1}^{K} p_k(1 - p_k)$ - критерий информативности Джинни.\n",
    "\n",
    "$p_k$ - доля объектов класса $k$ в выборке X:\n",
    "\n",
    "$p_k=\\frac{1}{|X|}\\sum\\limits_{i \\in X}{[y_i = k]}$\n",
    "\n",
    "В задаче работаем только с числовыми данными и строим дерево классификации.\n",
    "\n",
    "Данные сгенерированы случайным образом."
   ]
  },
  {
   "cell_type": "code",
   "execution_count": 1,
   "metadata": {},
   "outputs": [],
   "source": [
    "from sklearn.datasets import make_blobs, make_moons\n",
    "import matplotlib.pyplot as plt\n",
    "import numpy as np\n",
    "from itertools import groupby\n",
    "%matplotlib inline\n",
    "\n",
    "x, y = make_moons(n_samples=100, noise=0.1)"
   ]
  },
  {
   "cell_type": "code",
   "execution_count": 2,
   "metadata": {},
   "outputs": [
    {
     "data": {
      "text/plain": [
       "<matplotlib.collections.PathCollection at 0x216dc9e13d0>"
      ]
     },
     "execution_count": 2,
     "metadata": {},
     "output_type": "execute_result"
    },
    {
     "data": {
      "image/png": "[encoded data removed]",
      "text/plain": [
       "<Figure size 432x288 with 1 Axes>"
      ]
     },
     "metadata": {
      "needs_background": "light"
     },
     "output_type": "display_data"
    }
   ],
   "source": [
    "plt.scatter(x[:,0], x[:,1], c = y)"
   ]
  },
  {
   "cell_type": "code",
   "execution_count": 3,
   "metadata": {},
   "outputs": [
    {
     "data": {
      "text/plain": [
       "'---val'"
      ]
     },
     "execution_count": 3,
     "metadata": {},
     "output_type": "execute_result"
    }
   ],
   "source": [
    "'-' * 3 + 'val'"
   ]
  },
  {
   "cell_type": "markdown",
   "metadata": {},
   "source": [
    "\n",
    "## Задание\n",
    "\n",
    "Напишите класс дерева, который реализует метод train, которая получает на вход матрицу данных ($x$) и целевые переменные ($y$), на выходе функция возвращает дерево в виде словаря в каждом случае записывается номер признака ($i$), порог разбиения($t$), значение в листовой вершине слева ($y_l$) и значение в листовой вершине справа ($y_r$). Вместо занчения в листовой вершине может содержаться следующий словарь с теми же ключами и так далее.\n",
    "\n",
    "Необходимо учесть:\n",
    "\n",
    "1. Возможность строить дерево строго определенной глубины и возможность указать минимальное количество объектов в узле.\n",
    "2. Пороги разбиения должны лежать строго по середине между ближайшими обектами.\n",
    "3. Разбиений не требуется, если в получившемся множестве находятся объекты одного класса.\n",
    "4. Количество различных классов объектов в целевой переменной может быть больше двух.\n"
   ]
  },
  {
   "cell_type": "markdown",
   "metadata": {},
   "source": [
    "## Решение"
   ]
  },
  {
   "cell_type": "code",
   "execution_count": 4,
   "metadata": {},
   "outputs": [],
   "source": [
    "### Вспомогательный код\n",
    "\n",
    "class Node:\n",
    "    def __init__(self, j=None, t=None, left=None, right=None, value=None):\n",
    "        self.j = j\n",
    "        self.t = t\n",
    "        self.left = left\n",
    "        self.right = right\n",
    "        self.value = value\n",
    "        \n",
    "    def is_leaf(self):\n",
    "        return self.value != None\n",
    "\n",
    "def get_groups(data, key):\n",
    "    return groupby(sorted(data, key=key), key)\n",
    "\n",
    "def eval_gini_criterion(X):\n",
    "    H_x = 0\n",
    "    for k, group in get_groups(X, key=lambda x: x[-1]):\n",
    "        x_in_k_count = len(list(group))\n",
    "        p_k = x_in_k_count / len(X)\n",
    "        H_x += p_k * (1 - p_k)\n",
    "\n",
    "    return H_x\n",
    "\n",
    "def eval_error(X_l, X_r):\n",
    "    X_size = len(X_l) + len(X_r)\n",
    "    return len(X_l) / X_size * eval_gini_criterion(X_l) + len(X_r) / X_size * eval_gini_criterion(X_r)\n",
    "\n",
    "def get_params_for_searching(X):\n",
    "    features_count = X.shape[1] - 1\n",
    "    params = []\n",
    "    \n",
    "    for j in range(0, features_count):\n",
    "        j_values_sort = sorted(X[:, j])\n",
    "        t_values = [np.mean(v) for v in zip(j_values_sort[:-1], j_values_sort[1:])]\n",
    "        params.append((j, t_values))\n",
    "        \n",
    "    return params\n",
    "\n",
    "def get_partitions(X, min_num_leaf):\n",
    "    error_value = np.inf\n",
    "    res = (False, None, None, None, None)\n",
    "    \n",
    "    for j, t_values in get_params_for_searching(X):\n",
    "        for t in t_values:\n",
    "            left, right = [np.array(list(group)) for _, group in get_groups(X, key=lambda x: x[j] > t)]\n",
    "            cur_error_value = eval_error(left, right)\n",
    "            \n",
    "            if cur_error_value == 0:\n",
    "                return (False, None, None, None, None)\n",
    "            if cur_error_value < error_value:\n",
    "                if len(left) > min_num_leaf and len(right) > min_num_leaf:\n",
    "                    error_value = cur_error_value\n",
    "                    res = (True, j, t, left, right)\n",
    "                    \n",
    "    return res\n",
    "        \n",
    "#only for classification problem\n",
    "def get_value_in_selection(X):\n",
    "    assert len(X) > 0\n",
    "    distribution = [[k, len(list(group))] for k, group in get_groups(X, key=lambda x: x[-1])]\n",
    "    \n",
    "    return max(distribution, key=lambda x: x[1])[0]\n",
    "\n",
    "def build_tree(X, cur_depth, max_depth, min_num_leaf):\n",
    "    if cur_depth == max_depth:\n",
    "        return Node(value=get_value_in_selection(X))\n",
    "    \n",
    "    has_parts, j, t, left, right = get_partitions(X, min_num_leaf)\n",
    "    \n",
    "    if not has_parts:\n",
    "        return Node(value=get_value_in_selection(X))\n",
    "        \n",
    "    left_node = build_tree(left, cur_depth + 1, max_depth, min_num_leaf)\n",
    "    right_node = build_tree(right, cur_depth + 1, max_depth, min_num_leaf)\n",
    "    \n",
    "    return Node(j, t, left=left_node, right=right_node)"
   ]
  },
  {
   "cell_type": "markdown",
   "metadata": {},
   "source": [
    "Класс дерева"
   ]
  },
  {
   "cell_type": "code",
   "execution_count": 9,
   "metadata": {},
   "outputs": [],
   "source": [
    "def get_tree_str(cur_node, depth=0):\n",
    "    if cur_node.is_leaf():\n",
    "        return f\"{'  ' * (depth)}(value: {cur_node.value})\"\n",
    "    \n",
    "    cur_str = f\"{'  ' * (depth)}(j: {cur_node.j}, t: {cur_node.t})\\n\"\n",
    "    cur_str += f\"{'  ' * (depth)}left: \\n{get_tree_str(cur_node.left, depth+1)}\\n\"\n",
    "    cur_str += f\"{'  ' * (depth)}right: \\n{get_tree_str(cur_node.right, depth+1)}\"\n",
    "\n",
    "    return cur_str\n",
    "\n",
    "def validate_train_args(x, y):\n",
    "    if len(x) != len(y):\n",
    "        raise ValueError(\"x and y must be the same size\")    \n",
    "\n",
    "class Tree:\n",
    "    def __init__(self, depth=1, min_num_leaf=1):\n",
    "        self.tree = None\n",
    "        self.depth = depth\n",
    "        self.min_num_leaf = min_num_leaf\n",
    "                \n",
    "    def train(self, x, y):\n",
    "        validate_train_args(x, y)\n",
    "        # Получаем датасет в котором целевая переменная находится в последней колонке\n",
    "        X = np.array(list(zip(*[x[:, j] for j in range(x.shape[1])], y)))\n",
    "        self.tree = build_tree(X, cur_depth=0, max_depth=self.depth, min_num_leaf=self.min_num_leaf)\n",
    "    \n",
    "    def predict(self, x):\n",
    "        if self.tree == None:\n",
    "            raise Exception(\"you need train the Tree\")\n",
    "        cur_node = self.tree\n",
    "        while True:\n",
    "            if cur_node.is_leaf():\n",
    "                return cur_node.value\n",
    "            if x[cur_node.j] > cur_node.t:\n",
    "                cur_node = cur_node.right\n",
    "            else:\n",
    "                cur_node = cur_node.left\n",
    "    \n",
    "    def __str__(self):\n",
    "        if self.tree == None:\n",
    "            return \"I'm empty tree\"\n",
    "        \n",
    "        return get_tree_str(self.tree)"
   ]
  },
  {
   "cell_type": "markdown",
   "metadata": {},
   "source": [
    "Постройте решающее дерево с глубиной 1, 2 и 3.\n",
    "\n",
    "Визуализируйте получившиеся результаты классификатора на плоскости. Для этого воспользуйтесь кодом ниже, чтобы построить поверхность. $t$ - порог разбиения $i$ - номер признака."
   ]
  },
  {
   "cell_type": "code",
   "execution_count": 10,
   "metadata": {},
   "outputs": [],
   "source": [
    "### Строим деревья\n",
    "\n",
    "tree_d1 = Tree(1)\n",
    "tree_d1.train(x, y)\n",
    "\n",
    "tree_d2 = Tree(2, 2)\n",
    "tree_d2.train(x, y)\n",
    "\n",
    "tree_d3 = Tree(3)\n",
    "tree_d3.train(x, y)"
   ]
  },
  {
   "cell_type": "code",
   "execution_count": 11,
   "metadata": {},
   "outputs": [
    {
     "name": "stdout",
     "output_type": "stream",
     "text": [
      "(j: 1, t: 0.3700530761503851)\n",
      "left: \n",
      "  (j: 0, t: -0.5100183366219474)\n",
      "  left: \n",
      "    (value: 0.0)\n",
      "  right: \n",
      "    (value: 1.0)\n",
      "right: \n",
      "  (j: 1, t: 0.6565667951699345)\n",
      "  left: \n",
      "    (value: 0.0)\n",
      "  right: \n",
      "    (value: 0.0)\n"
     ]
    }
   ],
   "source": [
    "print(tree_d2)"
   ]
  },
  {
   "cell_type": "code",
   "execution_count": 12,
   "metadata": {},
   "outputs": [],
   "source": [
    "test_tree = Tree(3, 2)\n",
    "test_tree.train(x, y)"
   ]
  },
  {
   "cell_type": "code",
   "execution_count": 13,
   "metadata": {},
   "outputs": [
    {
     "data": {
      "text/plain": [
       "<matplotlib.collections.PathCollection at 0x216ddb79dc0>"
      ]
     },
     "execution_count": 13,
     "metadata": {},
     "output_type": "execute_result"
    },
    {
     "data": {
      "image/png": "[encoded data removed]",
      "text/plain": [
       "<Figure size 432x288 with 1 Axes>"
      ]
     },
     "metadata": {
      "needs_background": "light"
     },
     "output_type": "display_data"
    }
   ],
   "source": [
    "def tree_clf(x):\n",
    "    y_pred = list()\n",
    "    for it in x.transpose():\n",
    "        # Алгоритм классификации\n",
    "        y_pred.append(test_tree.predict(it)) # Используем решающее дерево\n",
    "        #y_pred.append(np.round(np.random.random())) # Пока дерево классифицирует случайный класс.\n",
    "    return np.array(y_pred)\n",
    "\n",
    "\n",
    "h = .02\n",
    "x0_min, x0_max = np.min(x[:,0]) - 1, np.max(x[:,0]) + 1\n",
    "x1_min, x1_max = np.min(x[:,1]) - 1, np.max(x[:,1]) + 1\n",
    "xx0, xx1 = np.meshgrid(np.arange(x0_min, x0_max, h),\n",
    "                         np.arange(x1_min, x1_max, h))\n",
    "\n",
    "Z = tree_clf(np.stack((xx0.ravel(),xx1.ravel())))\n",
    "\n",
    "Z = Z.reshape(xx0.shape)\n",
    "\n",
    "cm = plt.cm.BrBG\n",
    "plt.contourf(xx0, xx1, Z, cmap=cm, alpha=.8)\n",
    "plt.scatter(x[:,0], x[:,1], c = y)"
   ]
  },
  {
   "cell_type": "code",
   "execution_count": null,
   "metadata": {},
   "outputs": [],
   "source": []
  }
 ],
 "metadata": {
  "kernelspec": {
   "display_name": "Python 3",
   "language": "python",
   "name": "python3"
  },
  "language_info": {
   "codemirror_mode": {
    "name": "ipython",
    "version": 3
   },
   "file_extension": ".py",
   "mimetype": "text/x-python",
   "name": "python",
   "nbconvert_exporter": "python",
   "pygments_lexer": "ipython3",
   "version": "3.8.3"
  }
 },
 "nbformat": 4,
 "nbformat_minor": 4
}
